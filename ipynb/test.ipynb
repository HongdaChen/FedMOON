{
 "cells": [
  {
   "cell_type": "code",
   "execution_count": 27,
   "metadata": {},
   "outputs": [],
   "source": [
    "import torch\n",
    "import torch.nn as nn\n",
    "import torch.nn.functional as F\n",
    "import math\n",
    "import torchvision\n",
    "import torchvision.models as models\n",
    "from torch.autograd import Variable\n",
    "import torch.utils.data as data\n",
    "import torchvision.transforms as transforms\n",
    "from torchvision.datasets import MNIST, EMNIST, CIFAR10,CIFAR100\n",
    "from PIL import Image\n",
    "import torch.optim as optim\n",
    "import numpy as np\n",
    "from sklearn.metrics import confusion_matrix\n",
    "# from resnetcifar import ResNet18_cifar10, ResNet50_cifar10\n",
    "import logging\n",
    "\n",
    "logging.basicConfig()\n",
    "logger = logging.getLogger()\n",
    "logger.setLevel(logging.INFO)\n",
    "from tensorboardX import SummaryWriter\n",
    "writer = SummaryWriter(\"logs\")"
   ]
  },
  {
   "cell_type": "code",
   "execution_count": 28,
   "metadata": {},
   "outputs": [],
   "source": [
    "class SimpleCNN_header(nn.Module):\n",
    "    def __init__(self, input_dim, hidden_dims, output_dim=10):\n",
    "        super(SimpleCNN_header, self).__init__()\n",
    "        self.conv1 = nn.Conv2d(3, 6, 5)\n",
    "        self.relu = nn.ReLU()\n",
    "        self.pool = nn.MaxPool2d(2, 2)\n",
    "        self.conv2 = nn.Conv2d(6, 16, 5)\n",
    "\n",
    "        # for now, we hard coded this network\n",
    "        # i.e. we fix the number of hidden layers i.e. 2 layers\n",
    "        self.fc1 = nn.Linear(input_dim, hidden_dims[0])\n",
    "        self.fc2 = nn.Linear(hidden_dims[0], hidden_dims[1])\n",
    "        #self.fc3 = nn.Linear(hidden_dims[1], output_dim)\n",
    "\n",
    "    def forward(self, x):\n",
    "\n",
    "        x = self.pool(self.relu(self.conv1(x)))\n",
    "        x = self.pool(self.relu(self.conv2(x)))\n",
    "        x = x.view(-1, 16 * 5 * 5)\n",
    "\n",
    "        x = self.relu(self.fc1(x))\n",
    "        x = self.relu(self.fc2(x))\n",
    "        # x = self.fc3(x)\n",
    "        return x"
   ]
  },
  {
   "cell_type": "code",
   "execution_count": 29,
   "metadata": {},
   "outputs": [],
   "source": [
    "class ModelFedCon(nn.Module):\n",
    "\n",
    "    def __init__(self, base_model, out_dim, n_classes, net_configs=None):\n",
    "        super(ModelFedCon, self).__init__()\n",
    "\n",
    "        if base_model == \"resnet50-cifar10\" or base_model == \"resnet50-cifar100\" or base_model == \"resnet50-smallkernel\" or base_model == \"resnet50\":\n",
    "            basemodel = ResNet50_cifar10()\n",
    "            self.features = nn.Sequential(*list(basemodel.children())[:-1])\n",
    "            num_ftrs = basemodel.fc.in_features\n",
    "        elif base_model == \"resnet18-cifar10\" or base_model == \"resnet18\":\n",
    "            basemodel = ResNet18_cifar10()\n",
    "            self.features = nn.Sequential(*list(basemodel.children())[:-1])\n",
    "            num_ftrs = basemodel.fc.in_features\n",
    "        elif base_model == \"mlp\":\n",
    "            self.features = MLP_header()\n",
    "            num_ftrs = 512\n",
    "        elif base_model == 'simple-cnn':\n",
    "            self.features = SimpleCNN_header(input_dim=(16 * 5 * 5), hidden_dims=[120, 84], output_dim=n_classes)\n",
    "            num_ftrs = 84\n",
    "        elif base_model == 'simple-cnn-mnist':\n",
    "            self.features = SimpleCNNMNIST_header(input_dim=(16 * 4 * 4), hidden_dims=[120, 84], output_dim=n_classes)\n",
    "            num_ftrs = 84\n",
    "\n",
    "        #summary(self.features.to('cuda:0'), (3,32,32))\n",
    "        #print(\"features:\", self.features)\n",
    "        # projection MLP\n",
    "        self.l1 = nn.Linear(num_ftrs, num_ftrs)\n",
    "        self.l2 = nn.Linear(num_ftrs, out_dim)\n",
    "\n",
    "        # last layer\n",
    "        self.l3 = nn.Linear(out_dim, n_classes)\n",
    "\n",
    "    def _get_basemodel(self, model_name):\n",
    "        try:\n",
    "            model = self.model_dict[model_name]\n",
    "            #print(\"Feature extractor:\", model_name)\n",
    "            return model\n",
    "        except:\n",
    "            raise (\"Invalid model name. Check the config file and pass one of: resnet18 or resnet50\")\n",
    "\n",
    "    def forward(self, x):\n",
    "        h = self.features(x)\n",
    "        #print(\"h before:\", h)\n",
    "        #print(\"h size:\", h.size())\n",
    "        h = h.squeeze()\n",
    "        #print(\"h after:\", h)\n",
    "        x = self.l1(h)\n",
    "        x = F.relu(x)\n",
    "        x = self.l2(x)\n",
    "\n",
    "        y = self.l3(x)\n",
    "        return h, x, y"
   ]
  },
  {
   "cell_type": "code",
   "execution_count": 30,
   "metadata": {},
   "outputs": [],
   "source": [
    "# net = ModelFedCon(\"simple-cnn\",256,10)\n",
    "# # net = SimpleCNNMNIST(input_dim=(16 * 4 * 4), hidden_dims=[120, 84], output_dim=10)\n",
    "# net = nn.DataParallel(net)\n",
    "# net = net.cpu()"
   ]
  },
  {
   "cell_type": "code",
   "execution_count": 31,
   "metadata": {},
   "outputs": [],
   "source": [
    "def compute_accuracy(model, dataloader, get_confusion_matrix=False, device=\"cpu\", multiloader=False):\n",
    "    was_training = False\n",
    "    if model.training:\n",
    "        model.eval()\n",
    "        was_training = True\n",
    "\n",
    "    true_labels_list, pred_labels_list = np.array([]), np.array([])\n",
    "\n",
    "    correct, total = 0, 0\n",
    "    if device == 'cpu':\n",
    "        criterion = nn.CrossEntropyLoss()\n",
    "    elif device == 'cuda':\n",
    "        criterion = nn.CrossEntropyLoss().cuda()\n",
    "    loss_collector = []\n",
    "    if multiloader:\n",
    "        for loader in dataloader:\n",
    "            with torch.no_grad():\n",
    "                for batch_idx, (x, target) in enumerate(loader):\n",
    "                    #print(\"x:\",x)\n",
    "                    #print(\"target:\",target)\n",
    "                    if device != 'cpu':\n",
    "                        x, target = x.cuda(), target.to(dtype=torch.int64).cuda()\n",
    "                    _, _, out = model(x)\n",
    "                    if len(target)==1:\n",
    "                        loss = criterion(out, target)\n",
    "                    else:\n",
    "                        loss = criterion(out, target)\n",
    "                    _, pred_label = torch.max(out.data, 1)\n",
    "                    loss_collector.append(loss.item())\n",
    "                    total += x.data.size()[0]\n",
    "                    correct += (pred_label == target.data).sum().item()\n",
    "\n",
    "                    if device == \"cpu\":\n",
    "                        pred_labels_list = np.append(pred_labels_list, pred_label.numpy())\n",
    "                        true_labels_list = np.append(true_labels_list, target.data.numpy())\n",
    "                    else:\n",
    "                        pred_labels_list = np.append(pred_labels_list, pred_label.cpu().numpy())\n",
    "                        true_labels_list = np.append(true_labels_list, target.data.cpu().numpy())\n",
    "        avg_loss = sum(loss_collector) / len(loss_collector)\n",
    "    else:\n",
    "        with torch.no_grad():\n",
    "            for batch_idx, (x, target) in enumerate(dataloader):\n",
    "                #print(\"x:\",x)\n",
    "                if device != 'cpu':\n",
    "                    x, target = x.cuda(), target.to(dtype=torch.int64).cuda()\n",
    "                _,_,out = model(x)\n",
    "                loss = criterion(out, target)\n",
    "                _, pred_label = torch.max(out.data, 1)\n",
    "                loss_collector.append(loss.item())\n",
    "                total += x.data.size()[0]\n",
    "                correct += (pred_label == target.data).sum().item()\n",
    "\n",
    "                if device == \"cpu\":\n",
    "                    pred_labels_list = np.append(pred_labels_list, pred_label.numpy())\n",
    "                    true_labels_list = np.append(true_labels_list, target.data.numpy())\n",
    "                else:\n",
    "                    pred_labels_list = np.append(pred_labels_list, pred_label.cpu().numpy())\n",
    "                    true_labels_list = np.append(true_labels_list, target.data.cpu().numpy())\n",
    "            avg_loss = sum(loss_collector) / len(loss_collector)\n",
    "\n",
    "    if get_confusion_matrix:\n",
    "        conf_matrix = confusion_matrix(true_labels_list, pred_labels_list)\n",
    "\n",
    "    if was_training:\n",
    "        model.train()\n",
    "\n",
    "    if get_confusion_matrix:\n",
    "        return correct / float(total), conf_matrix, avg_loss\n",
    "\n",
    "    return correct / float(total), avg_loss\n"
   ]
  },
  {
   "cell_type": "code",
   "execution_count": 32,
   "metadata": {},
   "outputs": [],
   "source": [
    "def get_dataloader(dataset, datadir, train_bs, test_bs, dataidxs=None, noise_level=0):\n",
    "    if dataset in ('cifar10', 'cifar100'):\n",
    "        if dataset == 'cifar10':\n",
    "            dl_obj = CIFAR10_truncated\n",
    "\n",
    "            normalize = transforms.Normalize(mean=[x / 255.0 for x in [125.3, 123.0, 113.9]],\n",
    "                                             std=[x / 255.0 for x in [63.0, 62.1, 66.7]])\n",
    "            transform_train = transforms.Compose([\n",
    "                transforms.ToTensor(),\n",
    "                transforms.Lambda(lambda x: F.pad(\n",
    "                    Variable(x.unsqueeze(0), requires_grad=False),\n",
    "                    (4, 4, 4, 4), mode='reflect').data.squeeze()),\n",
    "                transforms.ToPILImage(),\n",
    "                transforms.ColorJitter(brightness=noise_level),\n",
    "                transforms.RandomCrop(32),\n",
    "                transforms.RandomHorizontalFlip(),\n",
    "                transforms.ToTensor(),\n",
    "                normalize\n",
    "            ])\n",
    "            # data prep for test set\n",
    "            transform_test = transforms.Compose([\n",
    "                transforms.ToTensor(),\n",
    "                normalize])\n",
    "\n",
    "\n",
    "        train_ds = dl_obj(datadir, dataidxs=dataidxs, train=True, transform=transform_train, download=True)\n",
    "        test_ds = dl_obj(datadir, train=False, transform=transform_test, download=True)\n",
    "\n",
    "        train_dl = data.DataLoader(dataset=train_ds, batch_size=train_bs, drop_last=True, shuffle=True)\n",
    "        test_dl = data.DataLoader(dataset=test_ds, batch_size=test_bs, shuffle=False)\n",
    "\n",
    "\n",
    "    elif dataset == 'tinyimagenet':\n",
    "        dl_obj = ImageFolder_custom\n",
    "        transform_train = transforms.Compose([\n",
    "            transforms.ToTensor(),\n",
    "            transforms.Normalize((0.5, 0.5, 0.5), (0.5, 0.5, 0.5)),\n",
    "        ])\n",
    "        transform_test = transforms.Compose([\n",
    "            transforms.ToTensor(),\n",
    "            transforms.Normalize((0.5, 0.5, 0.5), (0.5, 0.5, 0.5)),\n",
    "        ])\n",
    "\n",
    "        train_ds = dl_obj(datadir+'./train/', dataidxs=dataidxs, transform=transform_train)\n",
    "        test_ds = dl_obj(datadir+'./val/', transform=transform_test)\n",
    "\n",
    "        train_dl = data.DataLoader(dataset=train_ds, batch_size=train_bs, drop_last=True, shuffle=True)\n",
    "        test_dl = data.DataLoader(dataset=test_ds, batch_size=test_bs, shuffle=False)\n",
    "\n",
    "\n",
    "    return train_dl, test_dl, train_ds, test_ds\n"
   ]
  },
  {
   "cell_type": "code",
   "execution_count": 33,
   "metadata": {},
   "outputs": [],
   "source": [
    "class CIFAR10_truncated(data.Dataset):\n",
    "\n",
    "    def __init__(self, root, dataidxs=None, train=True, transform=None, target_transform=None, download=False):\n",
    "\n",
    "        self.root = root\n",
    "        self.dataidxs = dataidxs\n",
    "        self.train = train\n",
    "        self.transform = transform\n",
    "        self.target_transform = target_transform\n",
    "        self.download = download\n",
    "\n",
    "        self.data, self.target = self.__build_truncated_dataset__()\n",
    "\n",
    "    def __build_truncated_dataset__(self):\n",
    "\n",
    "        cifar_dataobj = CIFAR10(self.root, self.train, self.transform, self.target_transform, self.download)\n",
    "\n",
    "        if torchvision.__version__ == '0.2.1':\n",
    "            if self.train:\n",
    "                data, target = cifar_dataobj.train_data, np.array(cifar_dataobj.train_labels)\n",
    "            else:\n",
    "                data, target = cifar_dataobj.test_data, np.array(cifar_dataobj.test_labels)\n",
    "        else:\n",
    "            data = cifar_dataobj.data\n",
    "            target = np.array(cifar_dataobj.targets)\n",
    "\n",
    "        if self.dataidxs is not None:\n",
    "            data = data[self.dataidxs]\n",
    "            target = target[self.dataidxs]\n",
    "\n",
    "        return data, target\n",
    "\n",
    "    def truncate_channel(self, index):\n",
    "        for i in range(index.shape[0]):\n",
    "            gs_index = index[i]\n",
    "            self.data[gs_index, :, :, 1] = 0.0\n",
    "            self.data[gs_index, :, :, 2] = 0.0\n",
    "\n",
    "    def __getitem__(self, index):\n",
    "        \"\"\"\n",
    "        Args:\n",
    "            index (int): Index\n",
    "\n",
    "        Returns:\n",
    "            tuple: (image, target) where target is index of the target class.\n",
    "        \"\"\"\n",
    "        img, target = self.data[index], self.target[index]\n",
    "        # img = Image.fromarray(img)\n",
    "        # print(\"cifar10 img:\", img)\n",
    "        # print(\"cifar10 target:\", target)\n",
    "\n",
    "        if self.transform is not None:\n",
    "            img = self.transform(img)\n",
    "\n",
    "        if self.target_transform is not None:\n",
    "            target = self.target_transform(target)\n",
    "\n",
    "        return img, target\n",
    "\n",
    "    def __len__(self):\n",
    "        return len(self.data)\n"
   ]
  },
  {
   "cell_type": "code",
   "execution_count": 34,
   "metadata": {},
   "outputs": [
    {
     "name": "stdout",
     "output_type": "stream",
     "text": [
      "Files already downloaded and verified\n",
      "Files already downloaded and verified\n"
     ]
    }
   ],
   "source": [
    "normalize = transforms.Normalize(mean=[x / 255.0 for x in [125.3, 123.0, 113.9]],\n",
    "                                 std=[x / 255.0 for x in [63.0, 62.1, 66.7]])\n",
    "transform_train = transforms.Compose([\n",
    "    transforms.ToTensor(),\n",
    "    transforms.Lambda(lambda x: F.pad(\n",
    "        Variable(x.unsqueeze(0), requires_grad=False),\n",
    "        (4, 4, 4, 4), mode='reflect').data.squeeze()),\n",
    "    transforms.ToPILImage(),\n",
    "    transforms.ColorJitter(brightness=0),\n",
    "    transforms.RandomCrop(32),\n",
    "    transforms.RandomHorizontalFlip(),\n",
    "    transforms.ToTensor(),\n",
    "    normalize\n",
    "])\n",
    "# data prep for test set\n",
    "transform_test = transforms.Compose([\n",
    "    transforms.ToTensor(),\n",
    "    normalize])\n",
    "\n",
    "cifar_dataTrain = CIFAR10(\"./\", True, transform_train, None, True)\n",
    "cifar_dataTest = CIFAR10(\"./\", False, transform_test, None, True)\n"
   ]
  },
  {
   "cell_type": "code",
   "execution_count": 35,
   "metadata": {},
   "outputs": [],
   "source": [
    "def partition_data(dataset, datadir, logdir, partition, n_parties, beta=0.4):\n",
    "    if dataset == 'cifar10':\n",
    "        X_train, y_train, X_test, y_test = load_cifar10_data(datadir)\n",
    "    elif dataset == 'cifar100':\n",
    "        X_train, y_train, X_test, y_test = load_cifar100_data(datadir)\n",
    "    elif dataset == 'tinyimagenet':\n",
    "        X_train, y_train, X_test, y_test = load_tinyimagenet_data(datadir)\n",
    "\n",
    "    n_train = y_train.shape[0]\n",
    "\n",
    "    if partition == \"homo\" or partition == \"iid\":\n",
    "        idxs = np.random.permutation(n_train)\n",
    "        batch_idxs = np.array_split(idxs, n_parties)\n",
    "        net_dataidx_map = {i: batch_idxs[i] for i in range(n_parties)}\n",
    "\n",
    "\n",
    "    elif partition == \"noniid-labeldir\" or partition == \"noniid\":\n",
    "        min_size = 0\n",
    "        min_require_size = 10\n",
    "        K = 10\n",
    "        if dataset == 'cifar100':\n",
    "            K = 100\n",
    "        elif dataset == 'tinyimagenet':\n",
    "            K = 200\n",
    "            # min_require_size = 100\n",
    "\n",
    "        N = y_train.shape[0]\n",
    "        net_dataidx_map = {}\n",
    "\n",
    "        while min_size < min_require_size:\n",
    "            idx_batch = [[] for _ in range(n_parties)]\n",
    "            for k in range(K):\n",
    "                idx_k = np.where(y_train == k)[0]\n",
    "                np.random.shuffle(idx_k)\n",
    "                proportions = np.random.dirichlet(np.repeat(beta, n_parties))\n",
    "                proportions = np.array([p * (len(idx_j) < N / n_parties) for p, idx_j in zip(proportions, idx_batch)])\n",
    "                proportions = proportions / proportions.sum()\n",
    "                proportions = (np.cumsum(proportions) * len(idx_k)).astype(int)[:-1]\n",
    "                idx_batch = [idx_j + idx.tolist() for idx_j, idx in zip(idx_batch, np.split(idx_k, proportions))]\n",
    "                min_size = min([len(idx_j) for idx_j in idx_batch])\n",
    "                # if K == 2 and n_parties <= 10:\n",
    "                #     if np.min(proportions) < 200:\n",
    "                #         min_size = 0\n",
    "                #         break\n",
    "\n",
    "        for j in range(n_parties):\n",
    "            np.random.shuffle(idx_batch[j])\n",
    "            net_dataidx_map[j] = idx_batch[j]\n",
    "\n",
    "    traindata_cls_counts = record_net_data_stats(y_train, net_dataidx_map, logdir)\n",
    "    return (X_train, y_train, X_test, y_test, net_dataidx_map, traindata_cls_counts)\n",
    "\n",
    "def load_cifar10_data(datadir):\n",
    "    transform = transforms.Compose([transforms.ToTensor()])\n",
    "\n",
    "    cifar10_train_ds = CIFAR10_truncated(datadir, train=True, download=True, transform=transform)\n",
    "    cifar10_test_ds = CIFAR10_truncated(datadir, train=False, download=True, transform=transform)\n",
    "\n",
    "    X_train, y_train = cifar10_train_ds.data, cifar10_train_ds.target\n",
    "    X_test, y_test = cifar10_test_ds.data, cifar10_test_ds.target\n",
    "\n",
    "    # y_train = y_train.numpy()\n",
    "    # y_test = y_test.numpy()\n",
    "\n",
    "    return (X_train, y_train, X_test, y_test)\n",
    "def record_net_data_stats(y_train, net_dataidx_map, logdir):\n",
    "    net_cls_counts = {}\n",
    "\n",
    "    for net_i, dataidx in net_dataidx_map.items():\n",
    "        unq, unq_cnt = np.unique(y_train[dataidx], return_counts=True)\n",
    "        tmp = {unq[i]: unq_cnt[i] for i in range(len(unq))}\n",
    "        net_cls_counts[net_i] = tmp\n",
    "\n",
    "    data_list=[]\n",
    "    for net_id, data in net_cls_counts.items():\n",
    "        n_total=0\n",
    "        for class_id, n_data in data.items():\n",
    "            n_total += n_data\n",
    "        data_list.append(n_total)\n",
    "    print('mean:', np.mean(data_list))\n",
    "    print('std:', np.std(data_list))\n",
    "    logger.info('Data statistics: %s' % str(net_cls_counts))\n",
    "\n",
    "    return net_cls_counts"
   ]
  },
  {
   "cell_type": "code",
   "execution_count": 36,
   "metadata": {},
   "outputs": [
    {
     "name": "stdout",
     "output_type": "stream",
     "text": [
      "Files already downloaded and verified\n",
      "Files already downloaded and verified\n"
     ]
    },
    {
     "name": "stderr",
     "output_type": "stream",
     "text": [
      "INFO:root:Data statistics: {0: {0: 1747, 1: 69, 2: 1776, 5: 19, 6: 68, 8: 34}, 1: {0: 260, 1: 756, 4: 1, 5: 71, 6: 4298}, 2: {0: 57, 2: 41, 3: 11, 5: 1554, 6: 191, 7: 107, 8: 49, 9: 2105}, 3: {0: 68, 1: 2873, 2: 270, 3: 194, 5: 94, 6: 18, 7: 100, 8: 2, 9: 1274}, 4: {0: 633, 1: 576, 2: 1916, 3: 38, 5: 2074}, 5: {0: 1, 1: 3, 2: 780, 3: 4, 5: 1161, 7: 4113}, 6: {1: 235, 2: 2, 5: 26, 6: 298, 9: 1620}, 7: {0: 1971, 1: 3, 3: 1584, 4: 2, 8: 4911}, 8: {0: 262, 1: 21, 2: 200, 3: 2483, 4: 4996}, 9: {0: 1, 1: 464, 2: 15, 3: 686, 4: 1, 5: 1, 6: 127, 7: 680, 8: 4, 9: 1}}\n"
     ]
    },
    {
     "name": "stdout",
     "output_type": "stream",
     "text": [
      "mean: 5000.0\n",
      "std: 2041.3842852339194\n"
     ]
    }
   ],
   "source": [
    "X_train, y_train, X_test, y_test, net_dataidx_map, traindata_cls_counts = partition_data(\n",
    "\"cifar10\", \"./\", \"./\", \"noniid\", 10, beta=0.1)"
   ]
  },
  {
   "cell_type": "code",
   "execution_count": 51,
   "metadata": {},
   "outputs": [],
   "source": [
    "#net_dataidx_map"
   ]
  },
  {
   "cell_type": "code",
   "execution_count": 38,
   "metadata": {},
   "outputs": [],
   "source": [
    "x=traindata_cls_counts"
   ]
  },
  {
   "cell_type": "code",
   "execution_count": 39,
   "metadata": {},
   "outputs": [
    {
     "data": {
      "image/png": "[encoded data removed]",
      "text/plain": [
       "<Figure size 1800x720 with 10 Axes>"
      ]
     },
     "metadata": {
      "needs_background": "light"
     },
     "output_type": "display_data"
    }
   ],
   "source": [
    "import matplotlib.pyplot as plt\n",
    "fig, ax = plt.subplots(2, 5, sharex='col', sharey='row',figsize=(25,10))\n",
    "for i in range(10):\n",
    "    if i==0:\n",
    "        ax[i//5,i%5].set_ylabel(\"Number of corresponding label\")\n",
    "    elif i>5:\n",
    "        ax[i//5,i%5].set_xlabel(\"Class_label\")\n",
    "    elif i==5:\n",
    "        ax[i//5,i%5].set_ylabel(\"Number of corresponding label\")\n",
    "        ax[i//5,i%5].set_xlabel(\"Class_label\")\n",
    "        \n",
    "    ax[i//5,i%5].set_xlim(-1,10)\n",
    "    ax[i//5,i%5].bar(list(x[i].keys()),list(x[i].values()),width = 1)\n",
    "    ax[i//5,i%5].set_title(\"client-{0}\".format(i))\n",
    "    for m,n in zip(list(x[i].keys()),list(x[i].values())):\n",
    "        ax[i//5,i%5].text(m+0.05,n+0.05,'%d' %n, ha='center',va='bottom')\n",
    "plt.show()"
   ]
  },
  {
   "cell_type": "code",
   "execution_count": 40,
   "metadata": {},
   "outputs": [
    {
     "data": {
      "text/plain": [
       "[1.3341701870769263,\n",
       " 0.9531125044779111,\n",
       " 1.618474022151909,\n",
       " 1.7161082470734144,\n",
       " 1.8302514727911654,\n",
       " 1.2314694360694074,\n",
       " 1.1427751309347505,\n",
       " 1.404663111348754,\n",
       " 1.2643212214786188,\n",
       " 1.8976525119055716]"
      ]
     },
     "execution_count": 40,
     "metadata": {},
     "output_type": "execute_result"
    }
   ],
   "source": [
    "from math import log\n",
    "# https://github.com/FedEntropy/FedEntropy/blob/main/Algorithm/DynamicEntropy.py\n",
    "def get_entropy(l):\n",
    "    entropy = 0.0\n",
    "    for i in range(len(l)):\n",
    "        entropy += - l[i] * log(l[i], 2)\n",
    "    return entropy\n",
    "\n",
    "entropy = []\n",
    "for j in range(10):\n",
    "    sum_=sum(list(x[j].values()))\n",
    "    p = [i/sum_ for i in list(x[j].values())]\n",
    "    entropy.append(get_entropy(p))\n",
    "entropy"
   ]
  },
  {
   "cell_type": "code",
   "execution_count": 41,
   "metadata": {},
   "outputs": [],
   "source": [
    "dataidx_0 = np.where(np.array(cifar_dataTrain.targets)==0)\n",
    "idx_0 = dataidx_0[0][:80]\n",
    "# dataidx_1 = np.where(np.array(cifar_dataTrain.targets)==1)\n",
    "# idx_1 = dataidx_1[0][:31]\n",
    "# dataidx_2 = np.where(np.array(cifar_dataTrain.targets)==2)\n",
    "# idx_2 = dataidx_2[0][:42]\n",
    "# # dataidx_3 = np.where(np.array(cifar_dataTrain.targets)==3)\n",
    "# # idx_3 = dataidx_3[3][:]\n",
    "# # dataidx_4 = np.where(np.array(cifar_dataTrain.targets)==4)\n",
    "# # idx_4 = dataidx_4[0][:]\n",
    "# # dataidx_5 = np.where(np.array(cifar_dataTrain.targets)==5)\n",
    "# # idx_5 = dataidx_5[0][:]\n",
    "# dataidx_6 = np.where(np.array(cifar_dataTrain.targets)==6)\n",
    "# idx_6 = dataidx_6[0][:865]\n",
    "# # dataidx_7 = np.where(np.array(cifar_dataTrain.targets)==7)\n",
    "# # idx_7 = dataidx_7[0][:]\n",
    "# # dataidx_8 = np.where(np.array(cifar_dataTrain.targets)==8)\n",
    "# # idx_8 = dataidx_8[0][:]\n",
    "# # dataidx_9 = np.where(np.array(cifar_dataTrain.targets)==9)\n",
    "# # idx_9 = dataidx_9[0][:]"
   ]
  },
  {
   "cell_type": "code",
   "execution_count": 42,
   "metadata": {},
   "outputs": [],
   "source": [
    "# train_dl_global,test_dl,train_ds_global,test_ds = get_dataloader(\"cifar10\", './', 64, 32, noise_level=0)\n",
    "# test_ds.data.shape[0]"
   ]
  },
  {
   "cell_type": "code",
   "execution_count": 43,
   "metadata": {},
   "outputs": [],
   "source": [
    "# train_dl,test_dl,train_ds,test_ds = get_dataloader(\"cifar10\", './', 64, 32, dataidxs=net_dataidx_map[9], noise_level=0)\n",
    "# test_ds.data.shape[0]"
   ]
  },
  {
   "cell_type": "code",
   "execution_count": 44,
   "metadata": {},
   "outputs": [],
   "source": [
    "# train_ds.data = np.append(train_ds_.data,train_ds.data,axis=0)\n",
    "# train_ds.target = np.append(train_ds_.target,train_ds.target,axis=0)\n",
    "# train_ds"
   ]
  },
  {
   "cell_type": "code",
   "execution_count": 45,
   "metadata": {},
   "outputs": [],
   "source": [
    "# s=train_ds.data[0].copy()\n",
    "# size = train_ds.data.shape[0]\n",
    "# train_ds.data = train_ds.data[:500]\n",
    "# for j in range(10):\n",
    "#     if j==1:\n",
    "#         continue\n",
    "#     for i in range(int(size/10)):\n",
    "#         s=train_ds.data[i]\n",
    "#         train_ds.data = np.append(train_ds.data,s.reshape(1,32,32,3),axis=0)\n",
    "#         train_ds.target = np.append(train_ds.target,np.array((j,)),axis=0)\n"
   ]
  },
  {
   "cell_type": "code",
   "execution_count": 46,
   "metadata": {},
   "outputs": [],
   "source": [
    "# Image.fromarray(train_ds.data[40]).resize((256,256))"
   ]
  },
  {
   "cell_type": "code",
   "execution_count": 47,
   "metadata": {},
   "outputs": [],
   "source": [
    "# train_dl = data.DataLoader(dataset=train_ds, batch_size=64, drop_last=False, shuffle=True)\n",
    "# train_dl"
   ]
  },
  {
   "cell_type": "code",
   "execution_count": 54,
   "metadata": {},
   "outputs": [],
   "source": [
    "conf_matrix=np.array([\n",
    "    [0,1000,0,0,0,0,0,0,0,0],\n",
    "    [0,1000,0,0,0,0,0,0,0,0],\n",
    "    [0,1000,0,0,0,0,0,0,0,0],\n",
    "    [0,1000,0,0,0,0,0,0,0,0],\n",
    "    [0,1000,0,0,0,0,0,0,0,0],\n",
    "    [0,1000,0,0,0,0,0,0,0,0],\n",
    "    [0,1000,0,0,0,0,0,0,0,0],\n",
    "    [0,1000,0,0,0,0,0,0,0,0],\n",
    "    [0,1000,0,0,0,0,0,0,0,0],\n",
    "    [0,1000,0,0,0,0,0,0,0,0],\n",
    "    \n",
    "])"
   ]
  },
  {
   "cell_type": "code",
   "execution_count": 55,
   "metadata": {},
   "outputs": [
    {
     "data": {
      "image/png": "[encoded data removed]",
      "text/plain": [
       "<Figure size 432x288 with 2 Axes>"
      ]
     },
     "metadata": {
      "needs_background": "light"
     },
     "output_type": "display_data"
    }
   ],
   "source": [
    "#画出混淆矩阵\n",
    "#!pip install --upgrade scikit-learn\n",
    "from sklearn.metrics import ConfusionMatrixDisplay\n",
    "import matplotlib.pyplot as plt\n",
    "# ConfusionMatrixDisplay 需要的参数: confusion_matrix(混淆矩阵), display_labels(标签名称列表)\n",
    "labels=[\"airplane\",\"automobile\",\"bird\",\"cat\",\"deer\",\"dog\",\"frog\",\"horse\",\"ship\",\"truck\"]\n",
    "disp = ConfusionMatrixDisplay(confusion_matrix=conf_matrix, display_labels=labels)\n",
    "disp.plot()\n",
    "plt.show()\n"
   ]
  },
  {
   "cell_type": "code",
   "execution_count": 57,
   "metadata": {},
   "outputs": [
    {
     "data": {
      "image/png": "[encoded data removed]",
      "text/plain": [
       "<Figure size 432x288 with 1 Axes>"
      ]
     },
     "metadata": {
      "needs_background": "light"
     },
     "output_type": "display_data"
    }
   ],
   "source": [
    "acc = np.array([0.189500, 0.162700, 0.16500, 0.190200, 0.140200, 0.227300,0.145600,0.115000,0.190500,0.100000])\n",
    "plt.plot(range(10),acc,label=\"acc\")\n",
    "plt.legend()\n",
    "plt.show()"
   ]
  },
  {
   "cell_type": "code",
   "execution_count": 56,
   "metadata": {},
   "outputs": [
    {
     "data": {
      "image/png": "[encoded data removed]",
      "text/plain": [
       "<Figure size 432x288 with 1 Axes>"
      ]
     },
     "metadata": {
      "needs_background": "light"
     },
     "output_type": "display_data"
    }
   ],
   "source": [
    "entropy=[0.9000217994846605,\n",
    " 0.7189019246974966,\n",
    " 1.3672891064649537,\n",
    " 0.8233513440074104,\n",
    " 1.2564880022932812,\n",
    " 1.5192966908812777,\n",
    " 1.2009083641903644,\n",
    " 0.9686101132032778,\n",
    " 1.1031978667031486,\n",
    " 0.3236351689336191]\n",
    "plt.plot(range(10),entropy,label=\"en\")\n",
    "plt.legend()\n",
    "plt.show()"
   ]
  },
  {
   "cell_type": "code",
   "execution_count": 59,
   "metadata": {
    "scrolled": true
   },
   "outputs": [
    {
     "name": "stdout",
     "output_type": "stream",
     "text": [
      "Files already downloaded and verified\n",
      "Files already downloaded and verified\n"
     ]
    },
    {
     "name": "stderr",
     "output_type": "stream",
     "text": [
      "INFO:root:in comm round:0\n",
      "INFO:root:Training network 0\n"
     ]
    },
    {
     "name": "stdout",
     "output_type": "stream",
     "text": [
      "Files already downloaded and verified\n"
     ]
    },
    {
     "ename": "KeyboardInterrupt",
     "evalue": "",
     "output_type": "error",
     "traceback": [
      "\u001b[0;31m---------------------------------------------------------------------------\u001b[0m",
      "\u001b[0;31mKeyboardInterrupt\u001b[0m                         Traceback (most recent call last)",
      "\u001b[0;32m/tmp/ipykernel_1492237/2912104237.py\u001b[0m in \u001b[0;36m<module>\u001b[0;34m\u001b[0m\n\u001b[1;32m     27\u001b[0m     \u001b[0;32mfor\u001b[0m \u001b[0mi\u001b[0m \u001b[0;32min\u001b[0m \u001b[0mrange\u001b[0m\u001b[0;34m(\u001b[0m\u001b[0;36m10\u001b[0m\u001b[0;34m)\u001b[0m\u001b[0;34m:\u001b[0m\u001b[0;34m\u001b[0m\u001b[0m\n\u001b[1;32m     28\u001b[0m         \u001b[0mlogger\u001b[0m\u001b[0;34m.\u001b[0m\u001b[0minfo\u001b[0m\u001b[0;34m(\u001b[0m\u001b[0;34m'Training network %s'\u001b[0m \u001b[0;34m%\u001b[0m \u001b[0mstr\u001b[0m\u001b[0;34m(\u001b[0m\u001b[0mi\u001b[0m\u001b[0;34m)\u001b[0m\u001b[0;34m)\u001b[0m\u001b[0;34m\u001b[0m\u001b[0m\n\u001b[0;32m---> 29\u001b[0;31m         \u001b[0mtrain_dl\u001b[0m\u001b[0;34m,\u001b[0m\u001b[0mtest_dl\u001b[0m\u001b[0;34m,\u001b[0m\u001b[0mtrain_ds\u001b[0m\u001b[0;34m,\u001b[0m\u001b[0mtest_ds\u001b[0m \u001b[0;34m=\u001b[0m \u001b[0mget_dataloader\u001b[0m\u001b[0;34m(\u001b[0m\u001b[0;34m\"cifar10\"\u001b[0m\u001b[0;34m,\u001b[0m \u001b[0;34m'./'\u001b[0m\u001b[0;34m,\u001b[0m \u001b[0;36m64\u001b[0m\u001b[0;34m,\u001b[0m \u001b[0;36m32\u001b[0m\u001b[0;34m,\u001b[0m \u001b[0mdataidxs\u001b[0m\u001b[0;34m=\u001b[0m\u001b[0mnet_dataidx_map\u001b[0m\u001b[0;34m[\u001b[0m\u001b[0mi\u001b[0m\u001b[0;34m]\u001b[0m\u001b[0;34m,\u001b[0m \u001b[0mnoise_level\u001b[0m\u001b[0;34m=\u001b[0m\u001b[0;36m0\u001b[0m\u001b[0;34m)\u001b[0m\u001b[0;34m\u001b[0m\u001b[0m\n\u001b[0m\u001b[1;32m     30\u001b[0m \u001b[0;34m\u001b[0m\u001b[0m\n\u001b[1;32m     31\u001b[0m         \u001b[0mtrain_dataloader\u001b[0m\u001b[0;34m=\u001b[0m\u001b[0mtrain_dl\u001b[0m\u001b[0;34m\u001b[0m\u001b[0m\n",
      "\u001b[0;32m/tmp/ipykernel_1492237/2070163681.py\u001b[0m in \u001b[0;36mget_dataloader\u001b[0;34m(dataset, datadir, train_bs, test_bs, dataidxs, noise_level)\u001b[0m\n\u001b[1;32m     24\u001b[0m \u001b[0;34m\u001b[0m\u001b[0m\n\u001b[1;32m     25\u001b[0m \u001b[0;34m\u001b[0m\u001b[0m\n\u001b[0;32m---> 26\u001b[0;31m         \u001b[0mtrain_ds\u001b[0m \u001b[0;34m=\u001b[0m \u001b[0mdl_obj\u001b[0m\u001b[0;34m(\u001b[0m\u001b[0mdatadir\u001b[0m\u001b[0;34m,\u001b[0m \u001b[0mdataidxs\u001b[0m\u001b[0;34m=\u001b[0m\u001b[0mdataidxs\u001b[0m\u001b[0;34m,\u001b[0m \u001b[0mtrain\u001b[0m\u001b[0;34m=\u001b[0m\u001b[0;32mTrue\u001b[0m\u001b[0;34m,\u001b[0m \u001b[0mtransform\u001b[0m\u001b[0;34m=\u001b[0m\u001b[0mtransform_train\u001b[0m\u001b[0;34m,\u001b[0m \u001b[0mdownload\u001b[0m\u001b[0;34m=\u001b[0m\u001b[0;32mTrue\u001b[0m\u001b[0;34m)\u001b[0m\u001b[0;34m\u001b[0m\u001b[0m\n\u001b[0m\u001b[1;32m     27\u001b[0m         \u001b[0mtest_ds\u001b[0m \u001b[0;34m=\u001b[0m \u001b[0mdl_obj\u001b[0m\u001b[0;34m(\u001b[0m\u001b[0mdatadir\u001b[0m\u001b[0;34m,\u001b[0m \u001b[0mtrain\u001b[0m\u001b[0;34m=\u001b[0m\u001b[0;32mFalse\u001b[0m\u001b[0;34m,\u001b[0m \u001b[0mtransform\u001b[0m\u001b[0;34m=\u001b[0m\u001b[0mtransform_test\u001b[0m\u001b[0;34m,\u001b[0m \u001b[0mdownload\u001b[0m\u001b[0;34m=\u001b[0m\u001b[0;32mTrue\u001b[0m\u001b[0;34m)\u001b[0m\u001b[0;34m\u001b[0m\u001b[0m\n\u001b[1;32m     28\u001b[0m \u001b[0;34m\u001b[0m\u001b[0m\n",
      "\u001b[0;32m/tmp/ipykernel_1492237/3433415623.py\u001b[0m in \u001b[0;36m__init__\u001b[0;34m(self, root, dataidxs, train, transform, target_transform, download)\u001b[0m\n\u001b[1;32m     10\u001b[0m         \u001b[0mself\u001b[0m\u001b[0;34m.\u001b[0m\u001b[0mdownload\u001b[0m \u001b[0;34m=\u001b[0m \u001b[0mdownload\u001b[0m\u001b[0;34m\u001b[0m\u001b[0m\n\u001b[1;32m     11\u001b[0m \u001b[0;34m\u001b[0m\u001b[0m\n\u001b[0;32m---> 12\u001b[0;31m         \u001b[0mself\u001b[0m\u001b[0;34m.\u001b[0m\u001b[0mdata\u001b[0m\u001b[0;34m,\u001b[0m \u001b[0mself\u001b[0m\u001b[0;34m.\u001b[0m\u001b[0mtarget\u001b[0m \u001b[0;34m=\u001b[0m \u001b[0mself\u001b[0m\u001b[0;34m.\u001b[0m\u001b[0m__build_truncated_dataset__\u001b[0m\u001b[0;34m(\u001b[0m\u001b[0;34m)\u001b[0m\u001b[0;34m\u001b[0m\u001b[0m\n\u001b[0m\u001b[1;32m     13\u001b[0m \u001b[0;34m\u001b[0m\u001b[0m\n\u001b[1;32m     14\u001b[0m     \u001b[0;32mdef\u001b[0m \u001b[0m__build_truncated_dataset__\u001b[0m\u001b[0;34m(\u001b[0m\u001b[0mself\u001b[0m\u001b[0;34m)\u001b[0m\u001b[0;34m:\u001b[0m\u001b[0;34m\u001b[0m\u001b[0m\n",
      "\u001b[0;32m/tmp/ipykernel_1492237/3433415623.py\u001b[0m in \u001b[0;36m__build_truncated_dataset__\u001b[0;34m(self)\u001b[0m\n\u001b[1;32m     14\u001b[0m     \u001b[0;32mdef\u001b[0m \u001b[0m__build_truncated_dataset__\u001b[0m\u001b[0;34m(\u001b[0m\u001b[0mself\u001b[0m\u001b[0;34m)\u001b[0m\u001b[0;34m:\u001b[0m\u001b[0;34m\u001b[0m\u001b[0m\n\u001b[1;32m     15\u001b[0m \u001b[0;34m\u001b[0m\u001b[0m\n\u001b[0;32m---> 16\u001b[0;31m         \u001b[0mcifar_dataobj\u001b[0m \u001b[0;34m=\u001b[0m \u001b[0mCIFAR10\u001b[0m\u001b[0;34m(\u001b[0m\u001b[0mself\u001b[0m\u001b[0;34m.\u001b[0m\u001b[0mroot\u001b[0m\u001b[0;34m,\u001b[0m \u001b[0mself\u001b[0m\u001b[0;34m.\u001b[0m\u001b[0mtrain\u001b[0m\u001b[0;34m,\u001b[0m \u001b[0mself\u001b[0m\u001b[0;34m.\u001b[0m\u001b[0mtransform\u001b[0m\u001b[0;34m,\u001b[0m \u001b[0mself\u001b[0m\u001b[0;34m.\u001b[0m\u001b[0mtarget_transform\u001b[0m\u001b[0;34m,\u001b[0m \u001b[0mself\u001b[0m\u001b[0;34m.\u001b[0m\u001b[0mdownload\u001b[0m\u001b[0;34m)\u001b[0m\u001b[0;34m\u001b[0m\u001b[0m\n\u001b[0m\u001b[1;32m     17\u001b[0m \u001b[0;34m\u001b[0m\u001b[0m\n\u001b[1;32m     18\u001b[0m         \u001b[0;32mif\u001b[0m \u001b[0mtorchvision\u001b[0m\u001b[0;34m.\u001b[0m\u001b[0m__version__\u001b[0m \u001b[0;34m==\u001b[0m \u001b[0;34m'0.2.1'\u001b[0m\u001b[0;34m:\u001b[0m\u001b[0;34m\u001b[0m\u001b[0m\n",
      "\u001b[0;32m~/anaconda3/envs/FedMOON/lib/python3.7/site-packages/torchvision/datasets/cifar.py\u001b[0m in \u001b[0;36m__init__\u001b[0;34m(self, root, train, transform, target_transform, download)\u001b[0m\n\u001b[1;32m     65\u001b[0m             \u001b[0mself\u001b[0m\u001b[0;34m.\u001b[0m\u001b[0mdownload\u001b[0m\u001b[0;34m(\u001b[0m\u001b[0;34m)\u001b[0m\u001b[0;34m\u001b[0m\u001b[0m\n\u001b[1;32m     66\u001b[0m \u001b[0;34m\u001b[0m\u001b[0m\n\u001b[0;32m---> 67\u001b[0;31m         \u001b[0;32mif\u001b[0m \u001b[0;32mnot\u001b[0m \u001b[0mself\u001b[0m\u001b[0;34m.\u001b[0m\u001b[0m_check_integrity\u001b[0m\u001b[0;34m(\u001b[0m\u001b[0;34m)\u001b[0m\u001b[0;34m:\u001b[0m\u001b[0;34m\u001b[0m\u001b[0m\n\u001b[0m\u001b[1;32m     68\u001b[0m             \u001b[0;32mraise\u001b[0m \u001b[0mRuntimeError\u001b[0m\u001b[0;34m(\u001b[0m\u001b[0;34m\"Dataset not found or corrupted. You can use download=True to download it\"\u001b[0m\u001b[0;34m)\u001b[0m\u001b[0;34m\u001b[0m\u001b[0m\n\u001b[1;32m     69\u001b[0m \u001b[0;34m\u001b[0m\u001b[0m\n",
      "\u001b[0;32m~/anaconda3/envs/FedMOON/lib/python3.7/site-packages/torchvision/datasets/cifar.py\u001b[0m in \u001b[0;36m_check_integrity\u001b[0;34m(self)\u001b[0m\n\u001b[1;32m    131\u001b[0m             \u001b[0mfilename\u001b[0m\u001b[0;34m,\u001b[0m \u001b[0mmd5\u001b[0m \u001b[0;34m=\u001b[0m \u001b[0mfentry\u001b[0m\u001b[0;34m[\u001b[0m\u001b[0;36m0\u001b[0m\u001b[0;34m]\u001b[0m\u001b[0;34m,\u001b[0m \u001b[0mfentry\u001b[0m\u001b[0;34m[\u001b[0m\u001b[0;36m1\u001b[0m\u001b[0;34m]\u001b[0m\u001b[0;34m\u001b[0m\u001b[0m\n\u001b[1;32m    132\u001b[0m             \u001b[0mfpath\u001b[0m \u001b[0;34m=\u001b[0m \u001b[0mos\u001b[0m\u001b[0;34m.\u001b[0m\u001b[0mpath\u001b[0m\u001b[0;34m.\u001b[0m\u001b[0mjoin\u001b[0m\u001b[0;34m(\u001b[0m\u001b[0mroot\u001b[0m\u001b[0;34m,\u001b[0m \u001b[0mself\u001b[0m\u001b[0;34m.\u001b[0m\u001b[0mbase_folder\u001b[0m\u001b[0;34m,\u001b[0m \u001b[0mfilename\u001b[0m\u001b[0;34m)\u001b[0m\u001b[0;34m\u001b[0m\u001b[0m\n\u001b[0;32m--> 133\u001b[0;31m             \u001b[0;32mif\u001b[0m \u001b[0;32mnot\u001b[0m \u001b[0mcheck_integrity\u001b[0m\u001b[0;34m(\u001b[0m\u001b[0mfpath\u001b[0m\u001b[0;34m,\u001b[0m \u001b[0mmd5\u001b[0m\u001b[0;34m)\u001b[0m\u001b[0;34m:\u001b[0m\u001b[0;34m\u001b[0m\u001b[0m\n\u001b[0m\u001b[1;32m    134\u001b[0m                 \u001b[0;32mreturn\u001b[0m \u001b[0;32mFalse\u001b[0m\u001b[0;34m\u001b[0m\u001b[0m\n\u001b[1;32m    135\u001b[0m         \u001b[0;32mreturn\u001b[0m \u001b[0;32mTrue\u001b[0m\u001b[0;34m\u001b[0m\u001b[0m\n",
      "\u001b[0;32m~/anaconda3/envs/FedMOON/lib/python3.7/site-packages/torchvision/datasets/utils.py\u001b[0m in \u001b[0;36mcheck_integrity\u001b[0;34m(fpath, md5)\u001b[0m\n\u001b[1;32m     69\u001b[0m     \u001b[0;32mif\u001b[0m \u001b[0mmd5\u001b[0m \u001b[0;32mis\u001b[0m \u001b[0;32mNone\u001b[0m\u001b[0;34m:\u001b[0m\u001b[0;34m\u001b[0m\u001b[0m\n\u001b[1;32m     70\u001b[0m         \u001b[0;32mreturn\u001b[0m \u001b[0;32mTrue\u001b[0m\u001b[0;34m\u001b[0m\u001b[0m\n\u001b[0;32m---> 71\u001b[0;31m     \u001b[0;32mreturn\u001b[0m \u001b[0mcheck_md5\u001b[0m\u001b[0;34m(\u001b[0m\u001b[0mfpath\u001b[0m\u001b[0;34m,\u001b[0m \u001b[0mmd5\u001b[0m\u001b[0;34m)\u001b[0m\u001b[0;34m\u001b[0m\u001b[0m\n\u001b[0m\u001b[1;32m     72\u001b[0m \u001b[0;34m\u001b[0m\u001b[0m\n\u001b[1;32m     73\u001b[0m \u001b[0;34m\u001b[0m\u001b[0m\n",
      "\u001b[0;32m~/anaconda3/envs/FedMOON/lib/python3.7/site-packages/torchvision/datasets/utils.py\u001b[0m in \u001b[0;36mcheck_md5\u001b[0;34m(fpath, md5, **kwargs)\u001b[0m\n\u001b[1;32m     61\u001b[0m \u001b[0;34m\u001b[0m\u001b[0m\n\u001b[1;32m     62\u001b[0m \u001b[0;32mdef\u001b[0m \u001b[0mcheck_md5\u001b[0m\u001b[0;34m(\u001b[0m\u001b[0mfpath\u001b[0m\u001b[0;34m:\u001b[0m \u001b[0mstr\u001b[0m\u001b[0;34m,\u001b[0m \u001b[0mmd5\u001b[0m\u001b[0;34m:\u001b[0m \u001b[0mstr\u001b[0m\u001b[0;34m,\u001b[0m \u001b[0;34m**\u001b[0m\u001b[0mkwargs\u001b[0m\u001b[0;34m:\u001b[0m \u001b[0mAny\u001b[0m\u001b[0;34m)\u001b[0m \u001b[0;34m->\u001b[0m \u001b[0mbool\u001b[0m\u001b[0;34m:\u001b[0m\u001b[0;34m\u001b[0m\u001b[0m\n\u001b[0;32m---> 63\u001b[0;31m     \u001b[0;32mreturn\u001b[0m \u001b[0mmd5\u001b[0m \u001b[0;34m==\u001b[0m \u001b[0mcalculate_md5\u001b[0m\u001b[0;34m(\u001b[0m\u001b[0mfpath\u001b[0m\u001b[0;34m,\u001b[0m \u001b[0;34m**\u001b[0m\u001b[0mkwargs\u001b[0m\u001b[0;34m)\u001b[0m\u001b[0;34m\u001b[0m\u001b[0m\n\u001b[0m\u001b[1;32m     64\u001b[0m \u001b[0;34m\u001b[0m\u001b[0m\n\u001b[1;32m     65\u001b[0m \u001b[0;34m\u001b[0m\u001b[0m\n",
      "\u001b[0;32m~/anaconda3/envs/FedMOON/lib/python3.7/site-packages/torchvision/datasets/utils.py\u001b[0m in \u001b[0;36mcalculate_md5\u001b[0;34m(fpath, chunk_size)\u001b[0m\n\u001b[1;32m     56\u001b[0m     \u001b[0;32mwith\u001b[0m \u001b[0mopen\u001b[0m\u001b[0;34m(\u001b[0m\u001b[0mfpath\u001b[0m\u001b[0;34m,\u001b[0m \u001b[0;34m\"rb\"\u001b[0m\u001b[0;34m)\u001b[0m \u001b[0;32mas\u001b[0m \u001b[0mf\u001b[0m\u001b[0;34m:\u001b[0m\u001b[0;34m\u001b[0m\u001b[0m\n\u001b[1;32m     57\u001b[0m         \u001b[0;32mfor\u001b[0m \u001b[0mchunk\u001b[0m \u001b[0;32min\u001b[0m \u001b[0miter\u001b[0m\u001b[0;34m(\u001b[0m\u001b[0;32mlambda\u001b[0m\u001b[0;34m:\u001b[0m \u001b[0mf\u001b[0m\u001b[0;34m.\u001b[0m\u001b[0mread\u001b[0m\u001b[0;34m(\u001b[0m\u001b[0mchunk_size\u001b[0m\u001b[0;34m)\u001b[0m\u001b[0;34m,\u001b[0m \u001b[0;34mb\"\"\u001b[0m\u001b[0;34m)\u001b[0m\u001b[0;34m:\u001b[0m\u001b[0;34m\u001b[0m\u001b[0m\n\u001b[0;32m---> 58\u001b[0;31m             \u001b[0mmd5\u001b[0m\u001b[0;34m.\u001b[0m\u001b[0mupdate\u001b[0m\u001b[0;34m(\u001b[0m\u001b[0mchunk\u001b[0m\u001b[0;34m)\u001b[0m\u001b[0;34m\u001b[0m\u001b[0m\n\u001b[0m\u001b[1;32m     59\u001b[0m     \u001b[0;32mreturn\u001b[0m \u001b[0mmd5\u001b[0m\u001b[0;34m.\u001b[0m\u001b[0mhexdigest\u001b[0m\u001b[0;34m(\u001b[0m\u001b[0;34m)\u001b[0m\u001b[0;34m\u001b[0m\u001b[0m\n\u001b[1;32m     60\u001b[0m \u001b[0;34m\u001b[0m\u001b[0m\n",
      "\u001b[0;31mKeyboardInterrupt\u001b[0m: "
     ]
    }
   ],
   "source": [
    "# train_dl_global,test_dl,train_ds_global,test_ds = get_dataloader(\"cifar10\", './', 64, 32, noise_level=0)\n",
    "net_local = {}\n",
    "for i in range(10):\n",
    "    net_local[i] = ModelFedCon(\"simple-cnn\",256,10)\n",
    "    \n",
    "net_global = ModelFedCon(\"simple-cnn\",256,10)\n",
    "net_global = net_global.cpu()\n",
    "train_dl_global,test_dl,train_ds_global,test_ds = get_dataloader(\"cifar10\", './', 64, 32, noise_level=0)\n",
    "\n",
    "for round in range(10):\n",
    "    logger.info(\"in comm round:\" + str(round))\n",
    "    nets_this_round=[]\n",
    "    global_w = net_global.state_dict()\n",
    "    \n",
    "    net_idx = np.where(entropy>np.mean(entropy))[0]\n",
    "    entropy_weight = [entropy[i] for i in net_idx]\n",
    "    entropy_weight = [i/sum(entropy_weight) for i in entropy_weight]\n",
    "    \n",
    "    for per_net in net_idx:\n",
    "        nets_this_round.append(net_local[per_net])\n",
    "        \n",
    "    # server to client\n",
    "    for net in nets_this_round:\n",
    "        net.load_state_dict(global_w)\n",
    "    \n",
    "    ##################################### start train ##############################################\n",
    "    for i in range(10):\n",
    "        logger.info('Training network %s' % str(i))\n",
    "        train_dl,test_dl,train_ds,test_ds = get_dataloader(\"cifar10\", './', 64, 32, dataidxs=net_dataidx_map[i], noise_level=0)\n",
    "\n",
    "        train_dataloader=train_dl\n",
    "        test_dataloader=test_dl\n",
    "        epochs=10\n",
    "        lr=0.01\n",
    "    #     net_local[i] = ModelFedCon(\"simple-cnn\",256,10)\n",
    "    #     net = nn.DataParallel(net)\n",
    "        net_local[i] = net_local[i].cpu()\n",
    "        # net.cuda()\n",
    "        device= 'cpu'\n",
    "        optimizer = optim.SGD(filter(lambda p: p.requires_grad, net_local[i].parameters()), lr=lr, momentum=0.9,\n",
    "                                      weight_decay=1e-5)\n",
    "        criterion = nn.CrossEntropyLoss() # .cuda()\n",
    "\n",
    "        cnt = 0\n",
    "\n",
    "        for epoch in range(epochs):\n",
    "            epoch_loss_collector = []\n",
    "            for batch_idx, (x, target) in enumerate(train_dataloader):\n",
    "        #         x, target = x.cuda(), target.cuda()\n",
    "\n",
    "                optimizer.zero_grad()\n",
    "                x.requires_grad = False\n",
    "                target.requires_grad = False\n",
    "                target = target.long()\n",
    "\n",
    "                _,_,out = net_local[i](x)\n",
    "                loss = criterion(out, target)\n",
    "\n",
    "                loss.backward()\n",
    "                optimizer.step()\n",
    "\n",
    "                cnt += 1\n",
    "                epoch_loss_collector.append(loss.item())\n",
    "\n",
    "            epoch_loss = sum(epoch_loss_collector) / len(epoch_loss_collector)\n",
    "            logger.info('Epoch: %d Loss: %f' % (epoch, epoch_loss))\n",
    "\n",
    "            if epoch % 10 == 0:\n",
    "                train_acc, _ = compute_accuracy(net_local[i], train_dataloader, device=device)\n",
    "                test_acc, conf_matrix, _ = compute_accuracy(net_local[i], test_dataloader, get_confusion_matrix=True, device=device)\n",
    "\n",
    "                logger.info('>> Training accuracy: %f' % train_acc)\n",
    "                logger.info('>> Test accuracy: %f' % test_acc)\n",
    "\n",
    "        train_acc, _ = compute_accuracy(net_local[i], train_dataloader, device=device)\n",
    "        test_acc, conf_matrix, _ = compute_accuracy(net_local[i], test_dataloader, get_confusion_matrix=True, device=device)\n",
    "\n",
    "        logger.info('>> Training accuracy: %f' % train_acc)\n",
    "        logger.info('>> Test accuracy: %f' % test_acc)\n",
    "        net_local[i].to('cpu')\n",
    "\n",
    "        logger.info(' ** Training complete **')\n",
    "    \n",
    "    ##################################### end train ##############################################\n",
    "    # client to server\n",
    "    for net_id, net in enumerate(nets_this_round):\n",
    "        net_para = net.state_dict()\n",
    "        if net_id == 0:\n",
    "            for key in net_para:\n",
    "                global_w[key] = net_para[key] * entropy_weight[net_id]\n",
    "        else:\n",
    "            for key in net_para:\n",
    "                global_w[key] += net_para[key] * entropy_weight[net_id]\n",
    "            \n",
    "    net_global.load_state_dict(global_w)\n",
    "    \n",
    "    logger.info('global n_test: %d' % len(test_dl))\n",
    "#     global_model.cuda()\n",
    "    train_acc, train_loss = compute_accuracy(net_global, train_dl_global, device=device)\n",
    "    test_acc, conf_matrix, _ = compute_accuracy(net_global, test_dl, get_confusion_matrix=True, device=device)\n",
    "\n",
    "    logger.info('>> Global Model Train accuracy: %f' % train_acc)\n",
    "    writer.add_scalar(\"Train_Acc\",train_acc,round)\n",
    "    logger.info('>> Global Model Test accuracy: %f' % test_acc)\n",
    "    writer.add_scalar(\"Test_Acc\", test_acc, round)\n",
    "    logger.info('>> Global Model Train loss: %f' % train_loss)\n",
    "    writer.add_scalar(\"Train_Loss\", train_loss, round)\n",
    "    \n",
    "    net_global.to('cpu')\n",
    "    "
   ]
  },
  {
   "cell_type": "code",
   "execution_count": 26,
   "metadata": {},
   "outputs": [
    {
     "data": {
      "text/plain": [
       "[3, 5, 7, 9]"
      ]
     },
     "execution_count": 26,
     "metadata": {},
     "output_type": "execute_result"
    }
   ],
   "source": [
    "list(net_idx)"
   ]
  },
  {
   "cell_type": "code",
   "execution_count": 129,
   "metadata": {},
   "outputs": [],
   "source": [
    "a=np.concatenate(train_ds_global.data[:30], axis=1)"
   ]
  },
  {
   "cell_type": "code",
   "execution_count": 33,
   "metadata": {},
   "outputs": [
    {
     "data": {
      "image/png": "[encoded data removed]",
      "text/plain": [
       "<PIL.Image.Image image mode=RGB size=32x32 at 0x17381A4B160>"
      ]
     },
     "execution_count": 33,
     "metadata": {},
     "output_type": "execute_result"
    }
   ],
   "source": [
    "# %matplotlib inline\n",
    "image = np.concatenate([im[0], im[1]], axis=1)\n",
    "Image.fromarray(image)"
   ]
  },
  {
   "cell_type": "code",
   "execution_count": 36,
   "metadata": {},
   "outputs": [
    {
     "data": {
      "text/plain": [
       "(32, 32, 3)"
      ]
     },
     "execution_count": 36,
     "metadata": {},
     "output_type": "execute_result"
    }
   ],
   "source": [
    "train_ds.data[0].shape"
   ]
  },
  {
   "cell_type": "markdown",
   "metadata": {},
   "source": [
    "\n",
    "# Data"
   ]
  },
  {
   "cell_type": "code",
   "execution_count": 11,
   "metadata": {},
   "outputs": [],
   "source": [
    "import torchvision.transforms as transforms\n",
    "from torchvision.datasets import MNIST, EMNIST, CIFAR10,CIFAR100\n",
    "from PIL import Image"
   ]
  },
  {
   "cell_type": "code",
   "execution_count": 12,
   "metadata": {},
   "outputs": [],
   "source": [
    "transform = transforms.Compose([transforms.ToTensor()])"
   ]
  },
  {
   "cell_type": "code",
   "execution_count": 23,
   "metadata": {},
   "outputs": [
    {
     "name": "stdout",
     "output_type": "stream",
     "text": [
      "Files already downloaded and verified\n"
     ]
    }
   ],
   "source": [
    "cifar_dataTrain = CIFAR10(\"./\", True, transform, None, True)\n",
    "cifar_dataTest = CIFAR10(\"./\", False, transform, None, True)\n"
   ]
  },
  {
   "cell_type": "code",
   "execution_count": 14,
   "metadata": {},
   "outputs": [
    {
     "data": {
      "text/plain": [
       "'0.4.0+cu92'"
      ]
     },
     "execution_count": 14,
     "metadata": {},
     "output_type": "execute_result"
    }
   ],
   "source": [
    "import torchvision\n",
    "torchvision.__version__"
   ]
  },
  {
   "cell_type": "code",
   "execution_count": 25,
   "metadata": {},
   "outputs": [
    {
     "data": {
      "text/plain": [
       "(32, 32, 3)"
      ]
     },
     "execution_count": 25,
     "metadata": {},
     "output_type": "execute_result"
    }
   ],
   "source": [
    "cifar_dataTrain.data[111].shape"
   ]
  },
  {
   "cell_type": "code",
   "execution_count": 52,
   "metadata": {},
   "outputs": [],
   "source": [
    "#cifar_dataTrain.data"
   ]
  },
  {
   "cell_type": "code",
   "execution_count": 44,
   "metadata": {},
   "outputs": [
    {
     "data": {
      "text/plain": [
       "4"
      ]
     },
     "execution_count": 44,
     "metadata": {},
     "output_type": "execute_result"
    }
   ],
   "source": [
    "dataidx_1 = np.where(np.array(cifar_dataTrain.targets)==1)\n",
    "# dataidx_1[0][0]\n",
    "data_1 = [cifar_dataTrain[dataidx_1[0][i]] for i in range(len(dataidx_1[0]))]\n",
    "data_1"
   ]
  },
  {
   "cell_type": "code",
   "execution_count": 51,
   "metadata": {},
   "outputs": [
    {
     "data": {
      "text/plain": [
       "5000"
      ]
     },
     "execution_count": 51,
     "metadata": {},
     "output_type": "execute_result"
    }
   ],
   "source": [
    "len(data_1)"
   ]
  },
  {
   "cell_type": "code",
   "execution_count": 17,
   "metadata": {},
   "outputs": [
    {
     "ename": "NameError",
     "evalue": "name 'np' is not defined",
     "output_type": "error",
     "traceback": [
      "\u001b[1;31m---------------------------------------------------------------------------\u001b[0m",
      "\u001b[1;31mNameError\u001b[0m                                 Traceback (most recent call last)",
      "\u001b[1;32m<ipython-input-17-acc9986fb9c5>\u001b[0m in \u001b[0;36m<module>\u001b[1;34m\u001b[0m\n\u001b[0;32m      1\u001b[0m \u001b[0mlabel_idx\u001b[0m\u001b[1;33m=\u001b[0m\u001b[1;33m{\u001b[0m\u001b[1;33m}\u001b[0m\u001b[1;33m\u001b[0m\u001b[1;33m\u001b[0m\u001b[0m\n\u001b[0;32m      2\u001b[0m \u001b[1;32mfor\u001b[0m \u001b[0mi\u001b[0m \u001b[1;32min\u001b[0m \u001b[0mrange\u001b[0m\u001b[1;33m(\u001b[0m\u001b[1;36m10\u001b[0m\u001b[1;33m)\u001b[0m\u001b[1;33m:\u001b[0m\u001b[1;33m\u001b[0m\u001b[1;33m\u001b[0m\u001b[0m\n\u001b[1;32m----> 3\u001b[1;33m     \u001b[0mlabel_idx\u001b[0m\u001b[1;33m[\u001b[0m\u001b[0mi\u001b[0m\u001b[1;33m]\u001b[0m\u001b[1;33m=\u001b[0m\u001b[0mnp\u001b[0m\u001b[1;33m.\u001b[0m\u001b[0mwhere\u001b[0m\u001b[1;33m(\u001b[0m\u001b[0mnp\u001b[0m\u001b[1;33m.\u001b[0m\u001b[0marray\u001b[0m\u001b[1;33m(\u001b[0m\u001b[0mcifar_dataobj\u001b[0m\u001b[1;33m.\u001b[0m\u001b[0mtargets\u001b[0m\u001b[1;33m)\u001b[0m\u001b[1;33m==\u001b[0m\u001b[0mi\u001b[0m\u001b[1;33m)\u001b[0m\u001b[1;33m[\u001b[0m\u001b[1;36m0\u001b[0m\u001b[1;33m]\u001b[0m\u001b[1;33m\u001b[0m\u001b[1;33m\u001b[0m\u001b[0m\n\u001b[0m\u001b[0;32m      4\u001b[0m \u001b[0mlabel_idx\u001b[0m\u001b[1;33m\u001b[0m\u001b[1;33m\u001b[0m\u001b[0m\n",
      "\u001b[1;31mNameError\u001b[0m: name 'np' is not defined"
     ]
    }
   ],
   "source": [
    "label_idx={}\n",
    "for i in range(10):\n",
    "    label_idx[i]=np.where(np.array(cifar_dataobj.targets)==i)[0]\n",
    "label_idx"
   ]
  },
  {
   "cell_type": "code",
   "execution_count": 37,
   "metadata": {},
   "outputs": [
    {
     "data": {
      "text/plain": [
       "(32, 32, 3)"
      ]
     },
     "execution_count": 37,
     "metadata": {},
     "output_type": "execute_result"
    }
   ],
   "source": [
    "new_data={}\n",
    "for i in range(10):\n",
    "    new_data[i] = 0\n",
    "    for j in label_idx[0]:\n",
    "        new_data[i]+=cifar_dataobj.data[j]\n",
    "    np.divide(new_data[i],1000)\n",
    "new_data[0].shape\n"
   ]
  },
  {
   "cell_type": "code",
   "execution_count": 40,
   "metadata": {},
   "outputs": [],
   "source": [
    "for _ in range(10):\n",
    "    im = Image.fromarray(new_data[_]).resize((256,256), Image.ANTIALIAS)\n",
    "    im.show()"
   ]
  },
  {
   "cell_type": "code",
   "execution_count": 32,
   "metadata": {},
   "outputs": [
    {
     "data": {
      "image/png": "[encoded data removed]",
      "text/plain": [
       "<PIL.Image.Image image mode=RGB size=256x256 at 0x16981CD3F28>"
      ]
     },
     "execution_count": 32,
     "metadata": {},
     "output_type": "execute_result"
    }
   ],
   "source": [
    "im = Image.fromarray(cifar_dataobj.data[a[-1]]).resize((256,256), Image.ANTIALIAS)\n",
    "im"
   ]
  },
  {
   "cell_type": "code",
   "execution_count": 8,
   "metadata": {},
   "outputs": [
    {
     "data": {
      "text/plain": [
       "(array([0, 1, 2, 3, 4, 5, 6, 7, 8, 9]),\n",
       " array([1000, 1000, 1000, 1000, 1000, 1000, 1000, 1000, 1000, 1000],\n",
       "       dtype=int64))"
      ]
     },
     "execution_count": 8,
     "metadata": {},
     "output_type": "execute_result"
    }
   ],
   "source": [
    "import numpy as np\n",
    "np.unique(cifar_dataobj.targets,return_counts=True)"
   ]
  },
  {
   "cell_type": "code",
   "execution_count": 24,
   "metadata": {},
   "outputs": [
    {
     "data": {
      "text/plain": [
       "array([3, 8, 8, ..., 5, 1, 7])"
      ]
     },
     "execution_count": 24,
     "metadata": {},
     "output_type": "execute_result"
    }
   ],
   "source": [
    "y_train = np.array(cifar_dataobj.targets)\n",
    "y_train"
   ]
  },
  {
   "cell_type": "code",
   "execution_count": 275,
   "metadata": {},
   "outputs": [],
   "source": [
    "min_size = 0\n",
    "min_require_size = 10\n",
    "K = 10\n",
    "beta=0.01\n",
    "n_parties=10\n",
    "N = y_train.shape[0]\n",
    "net_dataidx_map = {}"
   ]
  },
  {
   "cell_type": "code",
   "execution_count": 276,
   "metadata": {},
   "outputs": [],
   "source": [
    "while min_size < min_require_size:\n",
    "    \n",
    "    idx_batch = [[] for _ in range(n_parties)]\n",
    "    for k in range(K):\n",
    "        # select those labels corresponding to the k.\n",
    "        idx_k = np.where(y_train == k)[0]\n",
    "        np.random.shuffle(idx_k)\n",
    "        \n",
    "        proportions = np.random.dirichlet(np.repeat(beta, n_parties))\n",
    "        proportions = np.array([p * (len(idx_j) < N / n_parties) for p, idx_j in zip(proportions, idx_batch)])\n",
    "        proportions = proportions / proportions.sum()\n",
    "        proportions = (np.cumsum(proportions) * len(idx_k)).astype(int)[:-1]\n",
    "        idx_batch = [idx_j + idx.tolist() for idx_j, idx in zip(idx_batch, np.split(idx_k, proportions))]\n",
    "        min_size = min([len(idx_j) for idx_j in idx_batch])\n",
    "\n",
    "for j in range(n_parties):\n",
    "    np.random.shuffle(idx_batch[j])\n",
    "    net_dataidx_map[j] = idx_batch[j]\n",
    "# net_dataidx_map"
   ]
  },
  {
   "cell_type": "code",
   "execution_count": 277,
   "metadata": {},
   "outputs": [],
   "source": [
    "def record_net_data_stats(y_train, net_dataidx_map):\n",
    "    net_cls_counts = {}\n",
    "\n",
    "    for net_i, dataidx in net_dataidx_map.items():\n",
    "        unq, unq_cnt = np.unique(y_train[dataidx], return_counts=True)\n",
    "        tmp = {unq[i]: unq_cnt[i] for i in range(len(unq))}\n",
    "        net_cls_counts[net_i] = tmp\n",
    "\n",
    "    data_list=[]\n",
    "    for net_id, data in net_cls_counts.items():\n",
    "        n_total=0\n",
    "        for class_id, n_data in data.items():\n",
    "            n_total += n_data\n",
    "        # just data valumes, not related to categories.\n",
    "        data_list.append(n_total)\n",
    "    print('mean:', np.mean(data_list))\n",
    "    print('std:', np.std(data_list))\n",
    "#     logger.info('Data statistics: %s' % str(net_cls_counts))\n",
    "\n",
    "    return net_cls_counts"
   ]
  },
  {
   "cell_type": "code",
   "execution_count": 278,
   "metadata": {},
   "outputs": [
    {
     "name": "stdout",
     "output_type": "stream",
     "text": [
      "mean: 1000.0\n",
      "std: 542.9703490983646\n"
     ]
    }
   ],
   "source": [
    "record=record_net_data_stats(y_train,net_dataidx_map)"
   ]
  },
  {
   "cell_type": "code",
   "execution_count": 279,
   "metadata": {},
   "outputs": [
    {
     "data": {
      "image/png": "[encoded data removed]",
      "text/plain": [
       "<Figure size 1800x720 with 10 Axes>"
      ]
     },
     "metadata": {
      "needs_background": "light"
     },
     "output_type": "display_data"
    }
   ],
   "source": [
    "import matplotlib.pyplot as plt\n",
    "fig, ax = plt.subplots(2, 5, sharex='col', sharey='row',figsize=(25,10))\n",
    "for i in range(n_parties):\n",
    "    if i==0:\n",
    "        ax[i//5,i%5].set_ylabel(\"Number of corresponding label\")\n",
    "    elif i>5:\n",
    "        ax[i//5,i%5].set_xlabel(\"Class_label\")\n",
    "    elif i==5:\n",
    "        ax[i//5,i%5].set_ylabel(\"Number of corresponding label\")\n",
    "        ax[i//5,i%5].set_xlabel(\"Class_label\")\n",
    "        \n",
    "    ax[i//5,i%5].set_xlim(-1,10)\n",
    "    ax[i//5,i%5].bar(list(record[i].keys()),list(record[i].values()),width = 1)\n",
    "    ax[i//5,i%5].set_title(\"client-{0}\".format(i))\n",
    "    for m,n in zip(list(record[i].keys()),list(record[i].values())):\n",
    "        ax[i//5,i%5].text(m+0.05,n+0.05,'%d' %n, ha='center',va='bottom')\n",
    "\n",
    "plt.savefig(\"./beta-{0}-partition.png\".format(beta),dpi=300,bbox_inches='tight')\n",
    "plt.show()"
   ]
  },
  {
   "cell_type": "code",
   "execution_count": 199,
   "metadata": {},
   "outputs": [],
   "source": [
    "# import collections\n",
    "\n",
    "# new_record={}\n",
    "# for i in range(10):\n",
    "#     for j in range(10):\n",
    "#         if j not in record[i].keys():\n",
    "#             record[i][j]=0\n",
    "#     new_record[i]=collections.OrderedDict(sorted(record[i].items()))\n",
    "# new_record"
   ]
  },
  {
   "cell_type": "markdown",
   "metadata": {},
   "source": [
    "# Visualization"
   ]
  },
  {
   "cell_type": "code",
   "execution_count": 41,
   "metadata": {},
   "outputs": [
    {
     "name": "stdout",
     "output_type": "stream",
     "text": [
      "Computing t-SNE embedding\n"
     ]
    },
    {
     "data": {
      "image/png": "[encoded data removed]",
      "text/plain": [
       "<Figure size 432x288 with 1 Axes>"
      ]
     },
     "metadata": {},
     "output_type": "display_data"
    }
   ],
   "source": [
    "# coding='utf-8'\n",
    "\"\"\"t-SNE对手写数字进行可视化\"\"\"\n",
    "from time import time\n",
    "import numpy as np\n",
    "import matplotlib.pyplot as plt\n",
    "\n",
    "from sklearn import datasets\n",
    "from sklearn.manifold import TSNE\n",
    "\n",
    "\n",
    "def get_data():\n",
    "    digits = datasets.load_digits(n_class=6)\n",
    "    data = digits.data\n",
    "    label = digits.target\n",
    "    n_samples, n_features = data.shape\n",
    "    return data, label, n_samples, n_features\n",
    "\n",
    "\n",
    "def plot_embedding(data, label, title):\n",
    "    x_min, x_max = np.min(data, 0), np.max(data, 0)\n",
    "    data = (data - x_min) / (x_max - x_min)\n",
    "\n",
    "    fig = plt.figure()\n",
    "    ax = plt.subplot(111)\n",
    "    for i in range(data.shape[0]):\n",
    "        plt.text(data[i, 0], data[i, 1], str(label[i]),\n",
    "                 color=plt.cm.Set1(label[i] / 10.),\n",
    "                 fontdict={'weight': 'bold', 'size': 9})\n",
    "    plt.xticks([])\n",
    "    plt.yticks([])\n",
    "    plt.title(title)\n",
    "    return fig\n",
    "\n",
    "\n",
    "def main():\n",
    "    data, label, n_samples, n_features = get_data()\n",
    "    print('Computing t-SNE embedding')\n",
    "    tsne = TSNE(n_components=2, init='pca', random_state=0)\n",
    "    t0 = time()\n",
    "    result = tsne.fit_transform(data)\n",
    "    fig = plot_embedding(result, label,\n",
    "                         't-SNE embedding of the digits (time %.2fs)'\n",
    "                         % (time() - t0))\n",
    "    plt.show(fig)\n",
    "\n",
    "\n",
    "if __name__ == '__main__':\n",
    "    main()"
   ]
  },
  {
   "cell_type": "code",
   "execution_count": null,
   "metadata": {},
   "outputs": [],
   "source": []
  }
 ],
 "metadata": {
  "kernelspec": {
   "display_name": "Python 3 (ipykernel)",
   "language": "python",
   "name": "python3"
  },
  "language_info": {
   "codemirror_mode": {
    "name": "ipython",
    "version": 3
   },
   "file_extension": ".py",
   "mimetype": "text/x-python",
   "name": "python",
   "nbconvert_exporter": "python",
   "pygments_lexer": "ipython3",
   "version": "3.7.0"
  }
 },
 "nbformat": 4,
 "nbformat_minor": 2
}
